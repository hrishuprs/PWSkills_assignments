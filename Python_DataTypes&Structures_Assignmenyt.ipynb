{
  "nbformat": 4,
  "nbformat_minor": 0,
  "metadata": {
    "colab": {
      "provenance": []
    },
    "kernelspec": {
      "name": "python3",
      "display_name": "Python 3"
    },
    "language_info": {
      "name": "python"
    }
  },
  "cells": [
    {
      "cell_type": "markdown",
      "source": [
        "### **Theory Questions**"
      ],
      "metadata": {
        "id": "cIm_mGMpAmZA"
      }
    },
    {
      "cell_type": "markdown",
      "source": [
        "1.What are data structures, and why are they important?\n",
        "\n",
        "Ans: A data structure is a specialized way of organizing, storing, and managing data to perform operations efficiently. Data structures define the relationship between data and the operations that can be performed on them.\n",
        "\n",
        "These data structures are important because:\n",
        "1. Efficiency\n",
        "2. Scalability\n",
        "3. Memory Management\n",
        "4. Foundation of Algorithms\n",
        "\n"
      ],
      "metadata": {
        "id": "6Q-aPNzFAvc5"
      }
    },
    {
      "cell_type": "markdown",
      "source": [
        "2.Explain the difference between mutable and immutable data types with examples.\n",
        "\n",
        "Ans:\n",
        "Mutable:\n",
        "The objects that can be changed after creation. The modification happens in place without creating a new object.\n",
        "Examples: List, Dictionary, Sets, etc.\n",
        "\n",
        "Immutable:\n",
        "The objects that cannot be changed after creation. Any modification results in the creation of a new object.\n",
        "Examples: Tuples, Strings, Frozen sets, etc."
      ],
      "metadata": {
        "id": "OA0gV02LBZ7A"
      }
    },
    {
      "cell_type": "markdown",
      "source": [
        "3.What are the main differences between lists and tuples in Python?\n",
        "\n",
        "Ans:\n",
        "\n",
        "1. List is mutable whereas tuple is immutable.\n",
        "2. List slower in execution whereas tuple is faster in execution.\n",
        "3. List uses more memory whereas tuple uses less memory.\n",
        "4. List has slower iteration whereas tuple has more iteration."
      ],
      "metadata": {
        "id": "L916x2wODsvA"
      }
    },
    {
      "cell_type": "markdown",
      "source": [
        "4. Describe how dictionaries store data.\n",
        "\n",
        "Ans: Python uses a hash table and an array to store dictionary items."
      ],
      "metadata": {
        "id": "gnzVF7wiNYRs"
      }
    },
    {
      "cell_type": "markdown",
      "source": [
        "5. Why might you use a set instead of a list in Python?\n",
        "\n",
        "Ans:\n",
        "\n",
        "* Sets store unique elements (no duplicates).\n",
        "* Faster lookups (O(1)) compared to lists (O(n)).\n",
        "\n"
      ],
      "metadata": {
        "id": "nRIKk8DUNuad"
      }
    },
    {
      "cell_type": "markdown",
      "source": [
        "6. What is a string in Python, and how is it different from a list?\n",
        "\n",
        "Ans: A string (str) is an immutable sequence of characters, while a list (list) is a mutable collection of elements."
      ],
      "metadata": {
        "id": "CMUBQbHoOFnE"
      }
    },
    {
      "cell_type": "markdown",
      "source": [
        "7.  How do tuples ensure data integrity in Python?\n",
        "\n",
        "Ans: Tuples are immutable, meaning their values cannot be changed after creation. This ensures data integrity by preventing accidental modifications."
      ],
      "metadata": {
        "id": "bMaZwWnhOL8g"
      }
    },
    {
      "cell_type": "markdown",
      "source": [
        "8. What is a hash table, and how does it relate to dictionaries in Python?\n",
        "\n",
        "Ans: A hash table is a data structure that maps keys to values using a hash function. Python dictionaries use hash tables for fast key-based lookups (O(1))."
      ],
      "metadata": {
        "id": "qXFU91ASOUAD"
      }
    },
    {
      "cell_type": "markdown",
      "source": [
        "9. Can lists contain different data types in Python?\n",
        "\n",
        "Ans: Yes, lists in Python can store elements of different types."
      ],
      "metadata": {
        "id": "sRLi1dHWOYnh"
      }
    },
    {
      "cell_type": "markdown",
      "source": [
        "10. Explain why strings are immutable in Python.\n",
        "\n",
        "Ans: Strings are immutable to improve performance, security, and memory efficiency. Any modification creates a new string object instead of changing the existing one."
      ],
      "metadata": {
        "id": "WkxA_xgKOdVs"
      }
    },
    {
      "cell_type": "markdown",
      "source": [
        "11. What advantages do dictionaries offer over lists for certain tasks?\n",
        "\n",
        "Ans:\n",
        "\n",
        "* Fast lookups (O(1)) vs. list search (O(n)).\n",
        "* Key-value storage (better organization).\n",
        "* Efficient data retrieval."
      ],
      "metadata": {
        "id": "b_unjfXkOi0a"
      }
    },
    {
      "cell_type": "markdown",
      "source": [
        "12.  Describe a scenario where using a tuple would be preferable over a list.\n",
        "\n",
        "Ans: Tuples are best for fixed data like GPS coordinates, configuration settings, or database records."
      ],
      "metadata": {
        "id": "6iEUyGxrOvrx"
      }
    },
    {
      "cell_type": "markdown",
      "source": [
        "13.  How do sets handle duplicate values in Python?\n",
        "\n",
        "Ans: Sets automatically remove duplicates when elements are added."
      ],
      "metadata": {
        "id": "hPTfFxB6O1B2"
      }
    },
    {
      "cell_type": "markdown",
      "source": [
        "14. How does the “in” keyword work differently for lists and dictionaries?\n",
        "\n",
        "Ans:\n",
        "* Lists: O(n) time complexity (linear search).\n",
        "* Dictionaries: O(1) time complexity (hash table lookup).\n",
        "\n"
      ],
      "metadata": {
        "id": "hiKhvYYBO57x"
      }
    },
    {
      "cell_type": "markdown",
      "source": [
        "15. Can you modify the elements of a tuple? Explain why or why not.\n",
        "\n",
        "Ans: No, tuples are immutable, so elements cannot be changed."
      ],
      "metadata": {
        "id": "IDtUztJGPCY0"
      }
    },
    {
      "cell_type": "markdown",
      "source": [
        "16. What is a nested dictionary, and give an example of its use case.\n",
        "\n",
        "Ans: A nested dictionary is a dictionary inside another dictionary, useful for storing hierarchical data.\n",
        "\n",
        "students = {\n",
        "    \"Alice\": {\"age\": 25, \"grade\": \"A\"},\n",
        "    \"Bob\": {\"age\": 22, \"grade\": \"B\"}\n",
        "}\n",
        "\n",
        "print(students[\"Alice\"][\"grade\"])\n"
      ],
      "metadata": {
        "id": "oP270U-KPIHe"
      }
    },
    {
      "cell_type": "markdown",
      "source": [
        "17. Describe the time complexity of accessing elements in a dictionary.\n",
        "\n",
        "Ans:\n",
        "\n",
        "* Average case: O(1) (direct key access).\n",
        "* Worst case: O(n) (if hash collisions occur)."
      ],
      "metadata": {
        "id": "-RM3D-pAPRz0"
      }
    },
    {
      "cell_type": "markdown",
      "source": [
        "18. In what situations are lists preferred over dictionaries?\n",
        "\n",
        "Ans:\n",
        "\n",
        "* When order matters.\n",
        "* When you need indexed access (list[i]).\n",
        "* When working with sequential data."
      ],
      "metadata": {
        "id": "Ot10bdPFPY_F"
      }
    },
    {
      "cell_type": "markdown",
      "source": [
        "19. Why are dictionaries considered unordered, and how does that affect data retrieval?\n",
        "\n",
        "Ans: Before Python 3.7, dictionaries did not maintain insertion order. From Python 3.7+, they do. Retrieval is based on hashing, not position."
      ],
      "metadata": {
        "id": "-swjW-JXPi4n"
      }
    },
    {
      "cell_type": "markdown",
      "source": [
        "20. Explain the difference between a list and a dictionary in terms of data retrieval.\n",
        "\n",
        "Ans:\n",
        "\n",
        "* In list the access of elements is index-based whereas in dictionary it is key-based.\n",
        "* The access time for list is O(n) whereas for dictionary is O(1)."
      ],
      "metadata": {
        "id": "ksknKFhJPpxk"
      }
    },
    {
      "cell_type": "markdown",
      "source": [
        "### **Practical Questions**"
      ],
      "metadata": {
        "id": "uPpqZycZQCNs"
      }
    },
    {
      "cell_type": "code",
      "source": [
        "#1. Write a code to create a string with your name and print it.\n",
        "s = input(\"Enter your name: \")\n",
        "print(f\"Name is: {s}\")"
      ],
      "metadata": {
        "colab": {
          "base_uri": "https://localhost:8080/"
        },
        "id": "U2WkoxsKQP2j",
        "outputId": "ba26a828-8250-4618-94d3-2c46f4c84914"
      },
      "execution_count": 1,
      "outputs": [
        {
          "output_type": "stream",
          "name": "stdout",
          "text": [
            "Enter your name: Hrishav P\n",
            "Name is: Hrishav P\n"
          ]
        }
      ]
    },
    {
      "cell_type": "code",
      "source": [
        "#2. Write a code to find the length of the string \"Hello World\".\n",
        "s = \"Hello World\"\n",
        "print(s)\n",
        "print(f\"Length of the string is: {len(s)}\")"
      ],
      "metadata": {
        "colab": {
          "base_uri": "https://localhost:8080/"
        },
        "id": "wGzvjzOsQcI6",
        "outputId": "1d2fb16d-e06f-40af-fd38-823fbf2e06ba"
      },
      "execution_count": 2,
      "outputs": [
        {
          "output_type": "stream",
          "name": "stdout",
          "text": [
            "Hello World\n",
            "Length of the string is: 11\n"
          ]
        }
      ]
    },
    {
      "cell_type": "code",
      "source": [
        "#3. Write a code to slice the first 3 characters from the string \"Python Programming\".\n",
        "s = \"Python Programming\"\n",
        "print(s)\n",
        "print(f\"First 3 characters are: {s[:3]}\")"
      ],
      "metadata": {
        "colab": {
          "base_uri": "https://localhost:8080/"
        },
        "id": "4kwMM0PfQoI5",
        "outputId": "e431b28c-d9bb-4d93-fee8-5ece49e9b6f9"
      },
      "execution_count": 3,
      "outputs": [
        {
          "output_type": "stream",
          "name": "stdout",
          "text": [
            "Python Programming\n",
            "First 3 characters are: Pyt\n"
          ]
        }
      ]
    },
    {
      "cell_type": "code",
      "source": [
        "#4. Write a code to convert the string \"hello\" to uppercase.\n",
        "s = \"hello\"\n",
        "print(s)\n",
        "print(f\"Uppercase of the string is: {s.upper()}\")"
      ],
      "metadata": {
        "colab": {
          "base_uri": "https://localhost:8080/"
        },
        "id": "GQDlBDZxQwZf",
        "outputId": "ed7f4b19-e0bd-414e-e8f1-067d256ca4ae"
      },
      "execution_count": 4,
      "outputs": [
        {
          "output_type": "stream",
          "name": "stdout",
          "text": [
            "hello\n",
            "Uppercase of the string is: HELLO\n"
          ]
        }
      ]
    },
    {
      "cell_type": "code",
      "source": [
        "#5. Write a code to replace the word \"apple\" with \"orange\" in the string \"I like apple\".\n",
        "s = \"I like apple\"\n",
        "print(f\"Before replacing: {s}\")\n",
        "new_s = s.replace(\"apple\", \"orange\")\n",
        "print(f\"After replacing: {new_s}\")"
      ],
      "metadata": {
        "colab": {
          "base_uri": "https://localhost:8080/"
        },
        "id": "Ly2LT5Q0Q2lQ",
        "outputId": "47218b5b-956b-434f-dddd-ba2361e1f26c"
      },
      "execution_count": 6,
      "outputs": [
        {
          "output_type": "stream",
          "name": "stdout",
          "text": [
            "Before replacing: I like apple\n",
            "After replacing: I like orange\n"
          ]
        }
      ]
    },
    {
      "cell_type": "code",
      "source": [
        "#6. Write a code to create a list with numbers 1 to 5 and print it.\n",
        "my_list = list(range(1, 6))\n",
        "print(my_list)"
      ],
      "metadata": {
        "colab": {
          "base_uri": "https://localhost:8080/"
        },
        "id": "9U6Ov720RUX4",
        "outputId": "c49e5814-cc6c-44e3-9bd6-005d436e84f0"
      },
      "execution_count": 7,
      "outputs": [
        {
          "output_type": "stream",
          "name": "stdout",
          "text": [
            "[1, 2, 3, 4, 5]\n"
          ]
        }
      ]
    },
    {
      "cell_type": "code",
      "source": [
        "#7. Write a code to append the number 10 to the list [1, 2, 3, 4].\n",
        "my_list = [1, 2, 3, 4]\n",
        "my_list.append(10)\n",
        "print(my_list)"
      ],
      "metadata": {
        "colab": {
          "base_uri": "https://localhost:8080/"
        },
        "id": "ma2g35CmRcIZ",
        "outputId": "4c269907-5fc8-44ee-84f3-bd702722de2a"
      },
      "execution_count": 8,
      "outputs": [
        {
          "output_type": "stream",
          "name": "stdout",
          "text": [
            "[1, 2, 3, 4, 10]\n"
          ]
        }
      ]
    },
    {
      "cell_type": "code",
      "source": [
        "#8. Write a code to remove the number 3 from the list [1, 2, 3, 4, 5].\n",
        "my_list = [1, 2, 3, 4, 5]\n",
        "my_list.remove(3)\n",
        "print(my_list)"
      ],
      "metadata": {
        "colab": {
          "base_uri": "https://localhost:8080/"
        },
        "id": "3JEpJTrfRnAB",
        "outputId": "7d96d538-667a-4720-c2df-abb8171d1193"
      },
      "execution_count": 9,
      "outputs": [
        {
          "output_type": "stream",
          "name": "stdout",
          "text": [
            "[1, 2, 4, 5]\n"
          ]
        }
      ]
    },
    {
      "cell_type": "code",
      "source": [
        "#9. Write a code to access the second element in the list ['a', 'b', 'c', 'd'].\n",
        "my_list = ['a', 'b', 'c', 'd']\n",
        "print(my_list[1])"
      ],
      "metadata": {
        "colab": {
          "base_uri": "https://localhost:8080/"
        },
        "id": "kHLI_fXQR2rn",
        "outputId": "28285e88-159e-4b65-f471-15cd8d124df1"
      },
      "execution_count": 10,
      "outputs": [
        {
          "output_type": "stream",
          "name": "stdout",
          "text": [
            "b\n"
          ]
        }
      ]
    },
    {
      "cell_type": "code",
      "source": [
        "#10. Write a code to reverse the list [10, 20, 30, 40, 50].\n",
        "my_list = [10, 20, 30, 40, 50]\n",
        "my_list.reverse()\n",
        "print(my_list)"
      ],
      "metadata": {
        "colab": {
          "base_uri": "https://localhost:8080/"
        },
        "id": "flPrVd5RSMaj",
        "outputId": "68543add-f8ca-41c5-93c9-0023ffa115fe"
      },
      "execution_count": 11,
      "outputs": [
        {
          "output_type": "stream",
          "name": "stdout",
          "text": [
            "[50, 40, 30, 20, 10]\n"
          ]
        }
      ]
    },
    {
      "cell_type": "code",
      "source": [
        "#11. Write a code to create a tuple with the elements 100, 200, 300 and print it.\n",
        "my_tuple = (100, 200, 300)\n",
        "print(my_tuple)"
      ],
      "metadata": {
        "colab": {
          "base_uri": "https://localhost:8080/"
        },
        "id": "sPPcfw0FSZMq",
        "outputId": "caa6a7bd-b851-46e9-e996-b7f146f1390d"
      },
      "execution_count": 12,
      "outputs": [
        {
          "output_type": "stream",
          "name": "stdout",
          "text": [
            "(100, 200, 300)\n"
          ]
        }
      ]
    },
    {
      "cell_type": "code",
      "source": [
        "#12. Write a code to access the second-to-last element of the tuple ('red', 'green', 'blue', 'yellow').\n",
        "my_tuple = ('red', 'green', 'blue', 'yellow')\n",
        "second_to_last = my_tuple[-2]\n",
        "print(second_to_last)"
      ],
      "metadata": {
        "colab": {
          "base_uri": "https://localhost:8080/"
        },
        "id": "SG5l2nEmS3ql",
        "outputId": "9d391714-172c-4668-9fdf-cd8241822ac3"
      },
      "execution_count": 13,
      "outputs": [
        {
          "output_type": "stream",
          "name": "stdout",
          "text": [
            "blue\n"
          ]
        }
      ]
    },
    {
      "cell_type": "code",
      "source": [
        "#13. Write a code to find the minimum number in the tuple (10, 20, 5, 15).\n",
        "my_tuple = (10, 20, 5, 15)\n",
        "min_number = min(my_tuple)\n",
        "print(min_number)"
      ],
      "metadata": {
        "colab": {
          "base_uri": "https://localhost:8080/"
        },
        "id": "5pyxeLMDThdD",
        "outputId": "59e7199a-d8ad-4518-df6b-cc114fdd8935"
      },
      "execution_count": 14,
      "outputs": [
        {
          "output_type": "stream",
          "name": "stdout",
          "text": [
            "5\n"
          ]
        }
      ]
    },
    {
      "cell_type": "code",
      "source": [
        "#14. Write a code to find the index of the element \"cat\" in the tuple ('dog', 'cat', 'rabbit').\n",
        "my_tuple = ('dog', 'cat', 'rabbit')\n",
        "index = my_tuple.index('cat')\n",
        "print(index)"
      ],
      "metadata": {
        "colab": {
          "base_uri": "https://localhost:8080/"
        },
        "id": "jvXGGzMGTo8h",
        "outputId": "4b9bae47-8e79-48cd-bb4b-16d778b6c709"
      },
      "execution_count": 15,
      "outputs": [
        {
          "output_type": "stream",
          "name": "stdout",
          "text": [
            "1\n"
          ]
        }
      ]
    },
    {
      "cell_type": "code",
      "source": [
        "#15. Write a code to create a tuple containing three different fruits and check if \"kiwi\" is in it.\n",
        "def check_fruit(fruit_tuple, fruit_to_check=\"kiwi\"):\n",
        "    return fruit_to_check in fruit_tuple\n",
        "\n",
        "fruit_tuple = tuple(input(\"Enter three fruits separated by space: \").split())\n",
        "\n",
        "print(f\"Fruits are: {fruit_tuple}\")\n",
        "\n",
        "if check_fruit(fruit_tuple):\n",
        "    print(\"Kiwi is in the tuple!\")\n",
        "else:\n",
        "    print(\"Kiwi is not in the tuple!\")\n"
      ],
      "metadata": {
        "colab": {
          "base_uri": "https://localhost:8080/"
        },
        "id": "ZL8iQu7eTu5j",
        "outputId": "e5476af6-ac9d-424b-e67b-bdc4fd50f74c"
      },
      "execution_count": 16,
      "outputs": [
        {
          "output_type": "stream",
          "name": "stdout",
          "text": [
            "Enter three fruits separated by space: apple\n",
            "Fruits are: ('apple',)\n",
            "Kiwi is not in the tuple!\n"
          ]
        }
      ]
    },
    {
      "cell_type": "code",
      "source": [
        "#16. Write a code to create a set with the elements 'a', 'b', 'c' and print it.\n",
        "my_set = {'a', 'b', 'c'}\n",
        "print(my_set)"
      ],
      "metadata": {
        "colab": {
          "base_uri": "https://localhost:8080/"
        },
        "id": "E7eoOwW5VKCv",
        "outputId": "bb19040c-1e2e-462c-9a21-147938fa7315"
      },
      "execution_count": 17,
      "outputs": [
        {
          "output_type": "stream",
          "name": "stdout",
          "text": [
            "{'c', 'b', 'a'}\n"
          ]
        }
      ]
    },
    {
      "cell_type": "code",
      "source": [
        "#17. Write a code to clear all elements from the set {1, 2, 3, 4, 5}.\n",
        "my_set = {1, 2, 3, 4, 5}\n",
        "my_set.clear()\n",
        "print(my_set)"
      ],
      "metadata": {
        "colab": {
          "base_uri": "https://localhost:8080/"
        },
        "id": "V2woAwHbVb2K",
        "outputId": "dc876995-4c45-4410-f1c5-b1e0ea2d7acb"
      },
      "execution_count": 18,
      "outputs": [
        {
          "output_type": "stream",
          "name": "stdout",
          "text": [
            "set()\n"
          ]
        }
      ]
    },
    {
      "cell_type": "code",
      "source": [
        "#18. Write a code to remove the element 4 from the set {1, 2, 3, 4}.\n",
        "my_set = {1, 2, 3, 4}\n",
        "my_set.discard(4)\n",
        "print(my_set)"
      ],
      "metadata": {
        "colab": {
          "base_uri": "https://localhost:8080/"
        },
        "id": "rhc65VJMVlP2",
        "outputId": "b3f178b0-f3f1-40db-b8f2-7b914c9b6c44"
      },
      "execution_count": 20,
      "outputs": [
        {
          "output_type": "stream",
          "name": "stdout",
          "text": [
            "{1, 2, 3}\n"
          ]
        }
      ]
    },
    {
      "cell_type": "code",
      "source": [
        "#19. Write a code to find the union of two sets {1, 2, 3} and {3, 4, 5}.\n",
        "set1 = {1, 2, 3}\n",
        "set2 = {3, 4, 5}\n",
        "\n",
        "union_set = set1.union(set2)\n",
        "\n",
        "print(union_set)"
      ],
      "metadata": {
        "colab": {
          "base_uri": "https://localhost:8080/"
        },
        "id": "Oitp5ysbVu5B",
        "outputId": "0c17dc02-1982-4033-876b-210020e4dca9"
      },
      "execution_count": 21,
      "outputs": [
        {
          "output_type": "stream",
          "name": "stdout",
          "text": [
            "{1, 2, 3, 4, 5}\n"
          ]
        }
      ]
    },
    {
      "cell_type": "code",
      "source": [
        "#20. Write a code to find the intersection of two sets {1, 2, 3} and {2, 3, 4}.\n",
        "set1 = {1, 2, 3}\n",
        "set2 = {2, 3, 4}\n",
        "\n",
        "intersection_set = set1.intersection(set2)\n",
        "print(intersection_set)"
      ],
      "metadata": {
        "colab": {
          "base_uri": "https://localhost:8080/"
        },
        "id": "7kXDP7aNV5fx",
        "outputId": "3bb615f4-f551-40b9-d7d8-df5abcaa825b"
      },
      "execution_count": 22,
      "outputs": [
        {
          "output_type": "stream",
          "name": "stdout",
          "text": [
            "{2, 3}\n"
          ]
        }
      ]
    },
    {
      "cell_type": "code",
      "source": [
        "#21. Write a code to create a dictionary with the keys \"name\", \"age\", and \"city\", and print it.\n",
        "# Getting user input\n",
        "name = input(\"Enter your name: \")\n",
        "age = int(input(\"Enter your age: \"))\n",
        "city = input(\"Enter your city: \")\n",
        "\n",
        "person = {\n",
        "    \"name\": name,\n",
        "    \"age\": age,\n",
        "    \"city\": city\n",
        "}\n",
        "\n",
        "print(person)\n"
      ],
      "metadata": {
        "colab": {
          "base_uri": "https://localhost:8080/"
        },
        "id": "E94BydjoWLmm",
        "outputId": "9bbb00ad-be25-446d-ebee-05b8342b8d5f"
      },
      "execution_count": 23,
      "outputs": [
        {
          "output_type": "stream",
          "name": "stdout",
          "text": [
            "Enter your name: Hrishav\n",
            "Enter your age: 21\n",
            "Enter your city: Hyd\n",
            "{'name': 'Hrishav', 'age': 21, 'city': 'Hyd'}\n"
          ]
        }
      ]
    },
    {
      "cell_type": "code",
      "source": [
        "#22. Write a code to add a new key-value pair \"country\": \"USA\" to the dictionary {'name': 'John', 'age': 25}.\n",
        "my_dict = {'name': 'John', 'age': 25}\n",
        "my_dict[\"country\"] = \"USA\"\n",
        "print(my_dict)"
      ],
      "metadata": {
        "colab": {
          "base_uri": "https://localhost:8080/"
        },
        "id": "8SyVSE6BWksY",
        "outputId": "feae0781-550e-49ae-b90d-e1eb8cbd0021"
      },
      "execution_count": 24,
      "outputs": [
        {
          "output_type": "stream",
          "name": "stdout",
          "text": [
            "{'name': 'John', 'age': 25, 'country': 'USA'}\n"
          ]
        }
      ]
    },
    {
      "cell_type": "code",
      "source": [
        "#23. Write a code to access the value associated with the key \"name\" in the dictionary {'name': 'Alice', 'age': 30}.\n",
        "my_dict = {'name': 'Alice', 'age': 30}\n",
        "name_value = my_dict[\"name\"]\n",
        "print(name_value)"
      ],
      "metadata": {
        "colab": {
          "base_uri": "https://localhost:8080/"
        },
        "id": "Qnq5A2XWWx_1",
        "outputId": "4111aecc-caf6-4197-e1b5-a22145a63e5e"
      },
      "execution_count": 25,
      "outputs": [
        {
          "output_type": "stream",
          "name": "stdout",
          "text": [
            "Alice\n"
          ]
        }
      ]
    },
    {
      "cell_type": "code",
      "source": [
        "#24. Write a code to remove the key \"age\" from the dictionary {'name': 'Bob', 'age': 22, 'city': 'New York'}.\n",
        "my_dict = {'name': 'Bob', 'age': 22, 'city': 'New York'}\n",
        "del my_dict[\"age\"]\n",
        "print(my_dict)"
      ],
      "metadata": {
        "colab": {
          "base_uri": "https://localhost:8080/"
        },
        "id": "OBL5IeYkXIyP",
        "outputId": "b15ce1f6-7c72-4594-f4cc-76f07443f144"
      },
      "execution_count": 26,
      "outputs": [
        {
          "output_type": "stream",
          "name": "stdout",
          "text": [
            "{'name': 'Bob', 'city': 'New York'}\n"
          ]
        }
      ]
    },
    {
      "cell_type": "code",
      "source": [
        "#25. Write a code to check if the key \"city\" exists in the dictionary {'name': 'Alice', 'city': 'Paris'}.\n",
        "my_dict = {'name': 'Alice', 'city': 'Paris'}\n",
        "if \"city\" in my_dict:\n",
        "    print(\"Key 'city' exists in the dictionary.\")\n",
        "else:\n",
        "    print(\"Key 'city' does not exist in the dictionary.\")"
      ],
      "metadata": {
        "colab": {
          "base_uri": "https://localhost:8080/"
        },
        "id": "syRGEJk0XN8O",
        "outputId": "15a99c03-9978-4d6e-adcc-9683d5398f5d"
      },
      "execution_count": 27,
      "outputs": [
        {
          "output_type": "stream",
          "name": "stdout",
          "text": [
            "Key 'city' exists in the dictionary.\n"
          ]
        }
      ]
    },
    {
      "cell_type": "code",
      "source": [
        "#26. Write a code to create a list, a tuple, and a dictionary, and print them all.\n",
        "list_values = input(\"Enter list values separated by spaces: \").split()\n",
        "tuple_values = tuple(input(\"Enter tuple values separated by spaces: \").split())\n",
        "key1 = input(\"Enter first key: \")\n",
        "value1 = input(\"Enter first value: \")\n",
        "key2 = input(\"Enter second key: \")\n",
        "value2 = input(\"Enter second value: \")\n",
        "key3 = input(\"Enter third key: \")\n",
        "value3 = input(\"Enter third value: \")\n",
        "dictionary = {\n",
        "    key1: value1,\n",
        "    key2: value2,\n",
        "    key3: value3\n",
        "}\n",
        "\n",
        "print(\"\\nList:\", list_values)\n",
        "print(\"Tuple:\", tuple_values)\n",
        "print(\"Dictionary:\", dictionary)\n"
      ],
      "metadata": {
        "colab": {
          "base_uri": "https://localhost:8080/"
        },
        "id": "4N_5cHngXZKT",
        "outputId": "557fb333-867f-428d-a57d-6915f773854b"
      },
      "execution_count": 28,
      "outputs": [
        {
          "output_type": "stream",
          "name": "stdout",
          "text": [
            "Enter list values separated by spaces: 10 20 30\n",
            "Enter tuple values separated by spaces: 11 78 98\n",
            "Enter first key: name\n",
            "Enter first value: bob\n",
            "Enter second key: age\n",
            "Enter second value: 32\n",
            "Enter third key: gender\n",
            "Enter third value: male\n",
            "\n",
            "List: ['10', '20', '30']\n",
            "Tuple: ('11', '78', '98')\n",
            "Dictionary: {'name': 'bob', 'age': '32', 'gender': 'male'}\n"
          ]
        }
      ]
    },
    {
      "cell_type": "code",
      "source": [
        "#27. Write a code to create a list of 5 random numbers between 1 and 100, sort it in ascending order, and print the result.(replaced).\n",
        "import random\n",
        "\n",
        "random_numbers = [random.randint(1, 100) for _ in range(5)]\n",
        "\n",
        "random_numbers.sort()\n",
        "\n",
        "print(random_numbers)"
      ],
      "metadata": {
        "colab": {
          "base_uri": "https://localhost:8080/"
        },
        "id": "IM1GoqFiXxBm",
        "outputId": "e4249448-48f9-40ba-da48-ac2f6980bed6"
      },
      "execution_count": 30,
      "outputs": [
        {
          "output_type": "stream",
          "name": "stdout",
          "text": [
            "[12, 25, 57, 61, 95]\n"
          ]
        }
      ]
    },
    {
      "cell_type": "code",
      "source": [
        "#28. Write a code to create a list with strings and print the element at the third index.\n",
        "\n",
        "list_values = input(\"Enter list values separated by spaces: \").split()\n",
        "\n",
        "if len(list_values) > 3:\n",
        "    print(\"Element at the third index:\", list_values[3])\n",
        "else:\n",
        "    print(\"The list does not have enough elements to access index 3.\")\n"
      ],
      "metadata": {
        "colab": {
          "base_uri": "https://localhost:8080/"
        },
        "id": "SifHY1FiX-Vx",
        "outputId": "6cbbacd3-6550-4b2c-839d-95cfb92304bc"
      },
      "execution_count": 31,
      "outputs": [
        {
          "output_type": "stream",
          "name": "stdout",
          "text": [
            "Enter list values separated by spaces: hello bye namaste go eat sleep repeat\n",
            "Element at the third index: go\n"
          ]
        }
      ]
    },
    {
      "cell_type": "code",
      "source": [
        "#29. Write a code to combine two dictionaries into one and print the result.\n",
        "dict1 = {'a': 1, 'b': 2}\n",
        "dict2 = {'c': 3, 'd': 4}\n",
        "\n",
        "combined_dict = dict1.copy()\n",
        "combined_dict.update(dict2)\n",
        "\n",
        "print(combined_dict)"
      ],
      "metadata": {
        "colab": {
          "base_uri": "https://localhost:8080/"
        },
        "id": "rPEZG-yBYRAF",
        "outputId": "f93ff311-a52b-4ded-b698-2bcdae71ea53"
      },
      "execution_count": 32,
      "outputs": [
        {
          "output_type": "stream",
          "name": "stdout",
          "text": [
            "{'a': 1, 'b': 2, 'c': 3, 'd': 4}\n"
          ]
        }
      ]
    },
    {
      "cell_type": "code",
      "source": [
        "#30. Write a code to convert a list of strings into a set.\n",
        "string_list = input(\"Enter a list of strings separated by spaces: \").split()\n",
        "\n",
        "string_set = set(string_list)\n",
        "\n",
        "print(string_set)"
      ],
      "metadata": {
        "colab": {
          "base_uri": "https://localhost:8080/"
        },
        "id": "QlAI53zMYbaH",
        "outputId": "2c3d4577-d446-4b3e-c2e1-a39429e01f77"
      },
      "execution_count": 33,
      "outputs": [
        {
          "output_type": "stream",
          "name": "stdout",
          "text": [
            "Enter a list of strings separated by spaces: hello namaste bye go\n",
            "{'bye', 'go', 'namaste', 'hello'}\n"
          ]
        }
      ]
    }
  ]
}